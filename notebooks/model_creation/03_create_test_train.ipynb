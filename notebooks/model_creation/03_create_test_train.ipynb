{
 "cells": [
  {
   "cell_type": "markdown",
   "metadata": {},
   "source": [
    "# Create training and test set\n",
    "\n",
    "**Goal**: Create test set and put it aside - this will only be used for benchmarking at the end. I will apply scikitlearn's stratifiedshufflesplit to try and sample evenly from different cell types, in case there are cell type specific signatures.\n",
    "\n",
    "**Output**: Test dataset (used for model assessment only), training dataset (used for model training and hyperparameter selection)\n",
    "\n",
    "**Assumptions (that could be tweaked)**:\n",
    "- Normalization procedure is sufficient rescaling to facilitate effective model training (scanpy normalize_total + log1p)"
   ]
  },
  {
   "cell_type": "code",
   "execution_count": 2,
   "metadata": {},
   "outputs": [],
   "source": [
    "\n",
    "# Import needed libraries\n",
    "from sklearn.model_selection import StratifiedShuffleSplit\n",
    "from sklearn.preprocessing import OneHotEncoder\n",
    "\n",
    "import scanpy as sc\n",
    "import numpy as np\n",
    "import os\n",
    "\n",
    "import matplotlib.cm as cm\n",
    "\n",
    "import pickle\n",
    "\n",
    "from utils.config import *\n",
    "from utils.analysis_variables import *"
   ]
  },
  {
   "cell_type": "code",
   "execution_count": 3,
   "metadata": {},
   "outputs": [],
   "source": [
    "# Scanpy setup\n",
    "sc.settings.verbosity = 3 # corresponds to hints\n",
    "\n",
    "# Notebook setup\n",
    "np.random.seed(15)\n",
    "\n",
    "import warnings\n",
    "warnings.filterwarnings('ignore')"
   ]
  },
  {
   "cell_type": "code",
   "execution_count": 4,
   "metadata": {},
   "outputs": [],
   "source": [
    "# Important paths\n",
    "notebook_name = \"03_create_test_train\"\n",
    "\n",
    "# path_outdir_base = \"../../output/20240221_import\"\n",
    "path_results = os.path.join(path_outdir_base, notebook_name)\n",
    "os.makedirs(path_results, exist_ok=True)\n",
    "\n",
    "path_input_data = os.path.join(path_outdir_base, \"02_explore_data_cell_id\", \"adata_clusterlabels.h5ad\")"
   ]
  },
  {
   "cell_type": "markdown",
   "metadata": {},
   "source": [
    "# Import data and data preparation"
   ]
  },
  {
   "cell_type": "code",
   "execution_count": 5,
   "metadata": {},
   "outputs": [],
   "source": [
    "adata = sc.read_h5ad(path_input_data)"
   ]
  },
  {
   "cell_type": "code",
   "execution_count": 6,
   "metadata": {},
   "outputs": [
    {
     "data": {
      "text/html": [
       "<div>\n",
       "<style scoped>\n",
       "    .dataframe tbody tr th:only-of-type {\n",
       "        vertical-align: middle;\n",
       "    }\n",
       "\n",
       "    .dataframe tbody tr th {\n",
       "        vertical-align: top;\n",
       "    }\n",
       "\n",
       "    .dataframe thead th {\n",
       "        text-align: right;\n",
       "    }\n",
       "</style>\n",
       "<table border=\"1\" class=\"dataframe\">\n",
       "  <thead>\n",
       "    <tr style=\"text-align: right;\">\n",
       "      <th></th>\n",
       "      <th>sample_ids</th>\n",
       "      <th>PRESENT_raw</th>\n",
       "      <th>sample_ids_letter</th>\n",
       "      <th>SampleID</th>\n",
       "      <th>True ID</th>\n",
       "      <th>Litter</th>\n",
       "      <th>Pooled</th>\n",
       "      <th>Genotype</th>\n",
       "      <th>Condition</th>\n",
       "      <th>Group</th>\n",
       "      <th>...</th>\n",
       "      <th>pct_counts_gene_mt</th>\n",
       "      <th>total_counts_gene_hsp</th>\n",
       "      <th>pct_counts_gene_hsp</th>\n",
       "      <th>total_counts_gene_ribo</th>\n",
       "      <th>pct_counts_gene_ribo</th>\n",
       "      <th>total_counts_gene_hemo</th>\n",
       "      <th>pct_counts_gene_hemo</th>\n",
       "      <th>n_genes</th>\n",
       "      <th>leiden_labeled</th>\n",
       "      <th>Sex_Celltype</th>\n",
       "    </tr>\n",
       "    <tr>\n",
       "      <th>index</th>\n",
       "      <th></th>\n",
       "      <th></th>\n",
       "      <th></th>\n",
       "      <th></th>\n",
       "      <th></th>\n",
       "      <th></th>\n",
       "      <th></th>\n",
       "      <th></th>\n",
       "      <th></th>\n",
       "      <th></th>\n",
       "      <th></th>\n",
       "      <th></th>\n",
       "      <th></th>\n",
       "      <th></th>\n",
       "      <th></th>\n",
       "      <th></th>\n",
       "      <th></th>\n",
       "      <th></th>\n",
       "      <th></th>\n",
       "      <th></th>\n",
       "      <th></th>\n",
       "    </tr>\n",
       "  </thead>\n",
       "  <tbody>\n",
       "    <tr>\n",
       "      <th>AAACCTGAGCAGCGTA-1-F_filtered_gene_bc_matrices</th>\n",
       "      <td>F_filtered_gene_bc_matrices</td>\n",
       "      <td>True</td>\n",
       "      <td>F</td>\n",
       "      <td>F</td>\n",
       "      <td>7011 #7-5 (F) and 7011 #7-4 (M)</td>\n",
       "      <td>7011_7</td>\n",
       "      <td>Y</td>\n",
       "      <td>WT</td>\n",
       "      <td>LPS</td>\n",
       "      <td>WT.LPS</td>\n",
       "      <td>...</td>\n",
       "      <td>1.749744</td>\n",
       "      <td>123.0</td>\n",
       "      <td>1.049846</td>\n",
       "      <td>2133.0</td>\n",
       "      <td>18.205872</td>\n",
       "      <td>4.0</td>\n",
       "      <td>0.034141</td>\n",
       "      <td>3824</td>\n",
       "      <td>Radial Glial Cell</td>\n",
       "      <td>Unknown_Radial Glial Cell</td>\n",
       "    </tr>\n",
       "    <tr>\n",
       "      <th>AAACCTGAGCGATCCC-1-F_filtered_gene_bc_matrices</th>\n",
       "      <td>F_filtered_gene_bc_matrices</td>\n",
       "      <td>True</td>\n",
       "      <td>F</td>\n",
       "      <td>F</td>\n",
       "      <td>7011 #7-5 (F) and 7011 #7-4 (M)</td>\n",
       "      <td>7011_7</td>\n",
       "      <td>Y</td>\n",
       "      <td>WT</td>\n",
       "      <td>LPS</td>\n",
       "      <td>WT.LPS</td>\n",
       "      <td>...</td>\n",
       "      <td>1.423794</td>\n",
       "      <td>115.0</td>\n",
       "      <td>1.098901</td>\n",
       "      <td>1898.0</td>\n",
       "      <td>18.136646</td>\n",
       "      <td>5.0</td>\n",
       "      <td>0.047778</td>\n",
       "      <td>3674</td>\n",
       "      <td>Radial Glial Cell</td>\n",
       "      <td>Unknown_Radial Glial Cell</td>\n",
       "    </tr>\n",
       "    <tr>\n",
       "      <th>AAACCTGAGCTGAACG-1-F_filtered_gene_bc_matrices</th>\n",
       "      <td>F_filtered_gene_bc_matrices</td>\n",
       "      <td>True</td>\n",
       "      <td>F</td>\n",
       "      <td>F</td>\n",
       "      <td>7011 #7-5 (F) and 7011 #7-4 (M)</td>\n",
       "      <td>7011_7</td>\n",
       "      <td>Y</td>\n",
       "      <td>WT</td>\n",
       "      <td>LPS</td>\n",
       "      <td>WT.LPS</td>\n",
       "      <td>...</td>\n",
       "      <td>2.448111</td>\n",
       "      <td>89.0</td>\n",
       "      <td>0.789427</td>\n",
       "      <td>2000.0</td>\n",
       "      <td>17.739933</td>\n",
       "      <td>11.0</td>\n",
       "      <td>0.097570</td>\n",
       "      <td>3725</td>\n",
       "      <td>Radial Glial Cell</td>\n",
       "      <td>Unknown_Radial Glial Cell</td>\n",
       "    </tr>\n",
       "  </tbody>\n",
       "</table>\n",
       "<p>3 rows × 29 columns</p>\n",
       "</div>"
      ],
      "text/plain": [
       "                                                                 sample_ids  \\\n",
       "index                                                                         \n",
       "AAACCTGAGCAGCGTA-1-F_filtered_gene_bc_matrices  F_filtered_gene_bc_matrices   \n",
       "AAACCTGAGCGATCCC-1-F_filtered_gene_bc_matrices  F_filtered_gene_bc_matrices   \n",
       "AAACCTGAGCTGAACG-1-F_filtered_gene_bc_matrices  F_filtered_gene_bc_matrices   \n",
       "\n",
       "                                                PRESENT_raw sample_ids_letter  \\\n",
       "index                                                                           \n",
       "AAACCTGAGCAGCGTA-1-F_filtered_gene_bc_matrices         True                 F   \n",
       "AAACCTGAGCGATCCC-1-F_filtered_gene_bc_matrices         True                 F   \n",
       "AAACCTGAGCTGAACG-1-F_filtered_gene_bc_matrices         True                 F   \n",
       "\n",
       "                                               SampleID  \\\n",
       "index                                                     \n",
       "AAACCTGAGCAGCGTA-1-F_filtered_gene_bc_matrices        F   \n",
       "AAACCTGAGCGATCCC-1-F_filtered_gene_bc_matrices        F   \n",
       "AAACCTGAGCTGAACG-1-F_filtered_gene_bc_matrices        F   \n",
       "\n",
       "                                                                        True ID  \\\n",
       "index                                                                             \n",
       "AAACCTGAGCAGCGTA-1-F_filtered_gene_bc_matrices  7011 #7-5 (F) and 7011 #7-4 (M)   \n",
       "AAACCTGAGCGATCCC-1-F_filtered_gene_bc_matrices  7011 #7-5 (F) and 7011 #7-4 (M)   \n",
       "AAACCTGAGCTGAACG-1-F_filtered_gene_bc_matrices  7011 #7-5 (F) and 7011 #7-4 (M)   \n",
       "\n",
       "                                                Litter Pooled Genotype  \\\n",
       "index                                                                    \n",
       "AAACCTGAGCAGCGTA-1-F_filtered_gene_bc_matrices  7011_7      Y       WT   \n",
       "AAACCTGAGCGATCCC-1-F_filtered_gene_bc_matrices  7011_7      Y       WT   \n",
       "AAACCTGAGCTGAACG-1-F_filtered_gene_bc_matrices  7011_7      Y       WT   \n",
       "\n",
       "                                               Condition   Group  ...  \\\n",
       "index                                                             ...   \n",
       "AAACCTGAGCAGCGTA-1-F_filtered_gene_bc_matrices       LPS  WT.LPS  ...   \n",
       "AAACCTGAGCGATCCC-1-F_filtered_gene_bc_matrices       LPS  WT.LPS  ...   \n",
       "AAACCTGAGCTGAACG-1-F_filtered_gene_bc_matrices       LPS  WT.LPS  ...   \n",
       "\n",
       "                                               pct_counts_gene_mt  \\\n",
       "index                                                               \n",
       "AAACCTGAGCAGCGTA-1-F_filtered_gene_bc_matrices           1.749744   \n",
       "AAACCTGAGCGATCCC-1-F_filtered_gene_bc_matrices           1.423794   \n",
       "AAACCTGAGCTGAACG-1-F_filtered_gene_bc_matrices           2.448111   \n",
       "\n",
       "                                               total_counts_gene_hsp  \\\n",
       "index                                                                  \n",
       "AAACCTGAGCAGCGTA-1-F_filtered_gene_bc_matrices                 123.0   \n",
       "AAACCTGAGCGATCCC-1-F_filtered_gene_bc_matrices                 115.0   \n",
       "AAACCTGAGCTGAACG-1-F_filtered_gene_bc_matrices                  89.0   \n",
       "\n",
       "                                               pct_counts_gene_hsp  \\\n",
       "index                                                                \n",
       "AAACCTGAGCAGCGTA-1-F_filtered_gene_bc_matrices            1.049846   \n",
       "AAACCTGAGCGATCCC-1-F_filtered_gene_bc_matrices            1.098901   \n",
       "AAACCTGAGCTGAACG-1-F_filtered_gene_bc_matrices            0.789427   \n",
       "\n",
       "                                               total_counts_gene_ribo  \\\n",
       "index                                                                   \n",
       "AAACCTGAGCAGCGTA-1-F_filtered_gene_bc_matrices                 2133.0   \n",
       "AAACCTGAGCGATCCC-1-F_filtered_gene_bc_matrices                 1898.0   \n",
       "AAACCTGAGCTGAACG-1-F_filtered_gene_bc_matrices                 2000.0   \n",
       "\n",
       "                                               pct_counts_gene_ribo  \\\n",
       "index                                                                 \n",
       "AAACCTGAGCAGCGTA-1-F_filtered_gene_bc_matrices            18.205872   \n",
       "AAACCTGAGCGATCCC-1-F_filtered_gene_bc_matrices            18.136646   \n",
       "AAACCTGAGCTGAACG-1-F_filtered_gene_bc_matrices            17.739933   \n",
       "\n",
       "                                               total_counts_gene_hemo  \\\n",
       "index                                                                   \n",
       "AAACCTGAGCAGCGTA-1-F_filtered_gene_bc_matrices                    4.0   \n",
       "AAACCTGAGCGATCCC-1-F_filtered_gene_bc_matrices                    5.0   \n",
       "AAACCTGAGCTGAACG-1-F_filtered_gene_bc_matrices                   11.0   \n",
       "\n",
       "                                                pct_counts_gene_hemo  n_genes  \\\n",
       "index                                                                           \n",
       "AAACCTGAGCAGCGTA-1-F_filtered_gene_bc_matrices              0.034141     3824   \n",
       "AAACCTGAGCGATCCC-1-F_filtered_gene_bc_matrices              0.047778     3674   \n",
       "AAACCTGAGCTGAACG-1-F_filtered_gene_bc_matrices              0.097570     3725   \n",
       "\n",
       "                                                   leiden_labeled  \\\n",
       "index                                                               \n",
       "AAACCTGAGCAGCGTA-1-F_filtered_gene_bc_matrices  Radial Glial Cell   \n",
       "AAACCTGAGCGATCCC-1-F_filtered_gene_bc_matrices  Radial Glial Cell   \n",
       "AAACCTGAGCTGAACG-1-F_filtered_gene_bc_matrices  Radial Glial Cell   \n",
       "\n",
       "                                                             Sex_Celltype  \n",
       "index                                                                      \n",
       "AAACCTGAGCAGCGTA-1-F_filtered_gene_bc_matrices  Unknown_Radial Glial Cell  \n",
       "AAACCTGAGCGATCCC-1-F_filtered_gene_bc_matrices  Unknown_Radial Glial Cell  \n",
       "AAACCTGAGCTGAACG-1-F_filtered_gene_bc_matrices  Unknown_Radial Glial Cell  \n",
       "\n",
       "[3 rows x 29 columns]"
      ]
     },
     "execution_count": 6,
     "metadata": {},
     "output_type": "execute_result"
    }
   ],
   "source": [
    "# Create factor level that is target variable, Sex, plus the level to split on\n",
    "adata.obs['Sex_Celltype'] = adata.obs.apply(lambda x: x.Sex + \"_\" + x.leiden_labeled, axis=1)\n",
    "\n",
    "adata.obs.head(3)"
   ]
  },
  {
   "cell_type": "markdown",
   "metadata": {},
   "source": [
    "# Create test dataset to put aside\n",
    "\n",
    "Here, y is Sex_Celltype so that I can sample representatives from each Sex x Cell type combination."
   ]
  },
  {
   "cell_type": "code",
   "execution_count": 7,
   "metadata": {},
   "outputs": [],
   "source": [
    "# Define the number of splits and test size\n",
    "n_splits = 1\n",
    "test_size = 0.2"
   ]
  },
  {
   "cell_type": "code",
   "execution_count": 8,
   "metadata": {},
   "outputs": [],
   "source": [
    "# Filter out the data with no known sex as an unlabeled test set\n",
    "adata_unlabeled = adata[adata.obs['Sex'] == 'Unknown']\n",
    "adata_labeled = adata[adata.obs['Sex'] != 'Unknown']"
   ]
  },
  {
   "cell_type": "code",
   "execution_count": 9,
   "metadata": {},
   "outputs": [],
   "source": [
    "\n",
    "# Make X and y_label variables for these in array format\n",
    "data = adata_labeled.X.toarray()\n",
    "\n",
    "one_hot_encoder = OneHotEncoder(sparse=False, drop='first', handle_unknown='ignore')\n",
    "target_sex_celltype = adata_labeled.obs.Sex_Celltype\n",
    "target_sex = adata_labeled.obs.Sex\n",
    "target_sex_celltype_encoded = one_hot_encoder.fit_transform(target_sex_celltype.astype('category').values.reshape(-1, 1))\n",
    "\n",
    "stratified_splitter = StratifiedShuffleSplit(n_splits=n_splits, test_size=test_size, random_state=my_random_state)\n",
    "\n",
    "for train_index, test_index in stratified_splitter.split(data, target_sex_celltype_encoded):\n",
    "    # Get the training and test data\n",
    "    X_train, X_test = data[train_index], data[test_index] # order of entries same as order in adata_labeled\n",
    "    y_train, y_test = target_sex[train_index], target_sex[test_index] # Actually only include the one predictor we care about\n"
   ]
  },
  {
   "cell_type": "code",
   "execution_count": 10,
   "metadata": {},
   "outputs": [
    {
     "name": "stdout",
     "output_type": "stream",
     "text": [
      "Size of training data (N cell x gene): (7407, 20821)\n",
      "Size of test data: (1852, 20821)\n"
     ]
    }
   ],
   "source": [
    "print(f\"Size of training data (N cell x gene): {X_train.shape}\")\n",
    "print(f\"Size of test data: {X_test.shape}\")"
   ]
  },
  {
   "cell_type": "code",
   "execution_count": 11,
   "metadata": {},
   "outputs": [
    {
     "name": "stdout",
     "output_type": "stream",
     "text": [
      "Training data N:\n"
     ]
    },
    {
     "data": {
      "text/plain": [
       "Sex  leiden_labeled              \n",
       "M    Radial Glial Cell               1860\n",
       "F    Radial Glial Cell               1154\n",
       "M    Intermediate Progenitor Cell     988\n",
       "F    Intermediate Progenitor Cell     841\n",
       "     Immature Excitatory Neuron       513\n",
       "M    Excitatory Neuron                513\n",
       "     Immature Excitatory Neuron       498\n",
       "F    Excitatory Neuron                470\n",
       "M    Inhibitory Neuron                223\n",
       "F    Inhibitory Neuron                134\n",
       "     Radial Glia with VIM             107\n",
       "M    Radial Glia with VIM             106\n",
       "Name: count, dtype: int64"
      ]
     },
     "execution_count": 11,
     "metadata": {},
     "output_type": "execute_result"
    }
   ],
   "source": [
    "print(\"Training data N:\")\n",
    "adata_labeled.obs.iloc[train_index].value_counts(['Sex', 'leiden_labeled'])"
   ]
  },
  {
   "cell_type": "code",
   "execution_count": 12,
   "metadata": {},
   "outputs": [
    {
     "name": "stdout",
     "output_type": "stream",
     "text": [
      "Test data N:\n"
     ]
    },
    {
     "data": {
      "text/plain": [
       "Sex  leiden_labeled              \n",
       "M    Radial Glial Cell               465\n",
       "F    Radial Glial Cell               289\n",
       "M    Intermediate Progenitor Cell    247\n",
       "F    Intermediate Progenitor Cell    210\n",
       "     Immature Excitatory Neuron      128\n",
       "M    Excitatory Neuron               128\n",
       "     Immature Excitatory Neuron      125\n",
       "F    Excitatory Neuron               118\n",
       "M    Inhibitory Neuron                56\n",
       "F    Inhibitory Neuron                33\n",
       "M    Radial Glia with VIM             27\n",
       "F    Radial Glia with VIM             26\n",
       "Name: count, dtype: int64"
      ]
     },
     "execution_count": 12,
     "metadata": {},
     "output_type": "execute_result"
    }
   ],
   "source": [
    "print(\"Test data N:\")\n",
    "adata_labeled.obs.iloc[test_index].value_counts(['Sex', 'leiden_labeled'])"
   ]
  },
  {
   "cell_type": "markdown",
   "metadata": {},
   "source": [
    "# Save data"
   ]
  },
  {
   "cell_type": "code",
   "execution_count": 13,
   "metadata": {},
   "outputs": [],
   "source": [
    "\n",
    "with open(os.path.join(path_results, 'training_data.pkl'), 'wb') as f:\n",
    "    pickle.dump({'X': X_train, 'Y': y_train}, f)\n",
    "\n",
    "with open(os.path.join(path_results, 'test_data.pkl'), 'wb') as f:\n",
    "    pickle.dump({'X': X_test, 'Y': y_test}, f)\n",
    "\n",
    "adata_labeled.write(os.path.join(path_results, 'adata_labeled.h5ad'))\n",
    "adata_unlabeled.write(os.path.join(path_results, 'adata_unlabeled.h5ad'))\n"
   ]
  },
  {
   "cell_type": "code",
   "execution_count": 14,
   "metadata": {},
   "outputs": [
    {
     "data": {
      "text/plain": [
       "'../../output/20240221_import/03_create_test_train'"
      ]
     },
     "execution_count": 14,
     "metadata": {},
     "output_type": "execute_result"
    }
   ],
   "source": [
    "path_results"
   ]
  },
  {
   "cell_type": "code",
   "execution_count": 19,
   "metadata": {},
   "outputs": [
    {
     "data": {
      "text/plain": [
       "index\n",
       "GGACAGATCTCGAGTA-1-KM13_filtered_gene_bc_matrices    M\n",
       "GAACCTACACGGCTAC-1-KM1_filtered_gene_bc_matrices     M\n",
       "CTACGTCCAGCTGTAT-1-J_filtered_gene_bc_matrices       F\n",
       "TGCTACCGTGCCTGTG-1-J_filtered_gene_bc_matrices       F\n",
       "AACTCCCAGGACGAAA-1-I_filtered_gene_bc_matrices       F\n",
       "                                                    ..\n",
       "CTAGAGTTCTCAAACG-1-K_filtered_gene_bc_matrices       F\n",
       "GTGAAGGAGTGAACAT-1-KM2_filtered_gene_bc_matrices     M\n",
       "ACGCAGCTCGCATGGC-1-K_filtered_gene_bc_matrices       F\n",
       "GCTGGGTCACGCCAGT-1-KM2_filtered_gene_bc_matrices     M\n",
       "CAAGTTGAGAAGGCCT-1-L_filtered_gene_bc_matrices       F\n",
       "Name: Sex, Length: 1852, dtype: category\n",
       "Categories (2, object): ['F', 'M']"
      ]
     },
     "execution_count": 19,
     "metadata": {},
     "output_type": "execute_result"
    }
   ],
   "source": [
    "y_test"
   ]
  }
 ],
 "metadata": {
  "kernelspec": {
   "display_name": "Python 3",
   "language": "python",
   "name": "python3"
  },
  "language_info": {
   "codemirror_mode": {
    "name": "ipython",
    "version": 3
   },
   "file_extension": ".py",
   "mimetype": "text/x-python",
   "name": "python",
   "nbconvert_exporter": "python",
   "pygments_lexer": "ipython3",
   "version": "3.11.5"
  }
 },
 "nbformat": 4,
 "nbformat_minor": 2
}
