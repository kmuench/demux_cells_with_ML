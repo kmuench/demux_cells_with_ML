{
 "cells": [
  {
   "cell_type": "markdown",
   "metadata": {},
   "source": [
    "# Prepare relevant gene sets for project\n",
    "\n",
    "This project brought up many questions, including:\n",
    "- What types of genes are most discriminating when it comes to distinguishing male and female cells in the developing brain (and - in particular - are they all sex or chromosome-linked genes)? \n",
    "- Are the genes that distinguish male from female cells entirely sex-linked, or might these genes regulate the expression of other targets in a sex-dependent manner? \n",
    "- How early can sexual dimorphic differentiation be detected in the brain?\n",
    "\n",
    "In order to answer these questions, I needed to acquire lists of genes to annotate my own dataset.\n",
    "\n",
    "I tried multiple methods of acquiring gene lists (e.g. [gget]('https://github.com/pachterlab/gget')), but ultimately, the method that worked best for me was the classic UCSC Genome Browser with my own added reformatting:\n",
    "\n",
    "[UCSC genome browser](https://genome.ucsc.edu/) > mm10 > Tools > Table Browser > add filter for chrom = 'chrX' OR chrom = 'chrY'\n",
    "\n",
    "I also downloaded gene sets of interest from the mSigDB website."
   ]
  },
  {
   "cell_type": "code",
   "execution_count": 9,
   "metadata": {},
   "outputs": [],
   "source": [
    "\n",
    "# Import needed libs\n",
    "import pandas as pd\n",
    "import os"
   ]
  },
  {
   "cell_type": "code",
   "execution_count": 10,
   "metadata": {},
   "outputs": [],
   "source": [
    "# Import needed paths\n",
    "path_ucsc_complete = \"../../../data/raw/ucsc/complete_X_Y_geneIDs.csv\"\n",
    "\n",
    "path_output = \"../data/processed/ucsc\"\n",
    "os.makedirs(path_output, exist_ok=True)"
   ]
  },
  {
   "cell_type": "code",
   "execution_count": 12,
   "metadata": {},
   "outputs": [
    {
     "data": {
      "text/html": [
       "<div>\n",
       "<style scoped>\n",
       "    .dataframe tbody tr th:only-of-type {\n",
       "        vertical-align: middle;\n",
       "    }\n",
       "\n",
       "    .dataframe tbody tr th {\n",
       "        vertical-align: top;\n",
       "    }\n",
       "\n",
       "    .dataframe thead th {\n",
       "        text-align: right;\n",
       "    }\n",
       "</style>\n",
       "<table border=\"1\" class=\"dataframe\">\n",
       "  <thead>\n",
       "    <tr style=\"text-align: right;\">\n",
       "      <th></th>\n",
       "      <th>geneSymbol</th>\n",
       "      <th>description</th>\n",
       "    </tr>\n",
       "  </thead>\n",
       "  <tbody>\n",
       "    <tr>\n",
       "      <th>0</th>\n",
       "      <td>Btbd35f23</td>\n",
       "      <td>Mus musculus BTB domain containing 35, family ...</td>\n",
       "    </tr>\n",
       "    <tr>\n",
       "      <th>1</th>\n",
       "      <td>Btbd35f24</td>\n",
       "      <td>Contains 1 BTB (POZ) domain. (from UniProt J3Q...</td>\n",
       "    </tr>\n",
       "  </tbody>\n",
       "</table>\n",
       "</div>"
      ],
      "text/plain": [
       "  geneSymbol                                        description\n",
       "0  Btbd35f23  Mus musculus BTB domain containing 35, family ...\n",
       "1  Btbd35f24  Contains 1 BTB (POZ) domain. (from UniProt J3Q..."
      ]
     },
     "execution_count": 12,
     "metadata": {},
     "output_type": "execute_result"
    }
   ],
   "source": [
    "# Downloaded data\n",
    "data_full = pd.read_csv(path_ucsc_complete, sep=\"\\t\", skiprows=0, header=1)\n",
    "data_streamlined = data_full[['mm10.kgXref.geneSymbol', 'mm10.kgXref.description']]\n",
    "data_streamlined = data_streamlined.rename({'mm10.kgXref.geneSymbol': 'geneSymbol', 'mm10.kgXref.description': 'description'}, axis=1)\n",
    "data_streamlined.head(2)\n"
   ]
  },
  {
   "cell_type": "code",
   "execution_count": 13,
   "metadata": {},
   "outputs": [],
   "source": [
    "data_streamlined.to_csv(os.path.join(path_output, 'ucsc_sexgene_info.csv'))"
   ]
  }
 ],
 "metadata": {
  "kernelspec": {
   "display_name": "Python 3",
   "language": "python",
   "name": "python3"
  },
  "language_info": {
   "codemirror_mode": {
    "name": "ipython",
    "version": 3
   },
   "file_extension": ".py",
   "mimetype": "text/x-python",
   "name": "python",
   "nbconvert_exporter": "python",
   "pygments_lexer": "ipython3",
   "version": "3.11.5"
  }
 },
 "nbformat": 4,
 "nbformat_minor": 2
}
